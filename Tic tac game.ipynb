{
 "cells": [
  {
   "cell_type": "code",
   "execution_count": 1,
   "metadata": {},
   "outputs": [
    {
     "name": "stdout",
     "output_type": "stream",
     "text": [
      "|1|2|3|\n",
      "|4|5|6|\n",
      "|7|8|9|\n"
     ]
    }
   ],
   "source": [
    "from IPython.display import clear_output\n",
    "\n",
    "def display_board(board):\n",
    "    print(f\"|{board[1]}|{board[2]}|{board[3]}|\\n|{board[4]}|{board[5]}|{board[6]}|\\n|{board[7]}|{board[8]}|{board[9]}|\")\n",
    "    pass\n",
    "\n",
    "test_board = ['#','1','2','3','4','5','6','7','8','9']\n",
    "display_board(test_board)\n",
    "\n",
    "def player_input():\n",
    "    display_board(test_board)\n",
    "    ask_user_number = int(input(\"Choose a number: \"))\n",
    "    while ask_user_number not in [1,2,3,4,5,6,7,8,9]:\n",
    "        ask_user_number = int(input(\"Choose a number: \"))\n",
    "    else:\n",
    "        if ask_user_number in [1,2,3,4,5,6,7,8,9]:\n",
    "            player_choice_type = input(\"X or O? \")\n",
    "            if player_choice_type=='x' or player_choice_type =='X':\n",
    "                test_board[ask_user_number] = 'X'\n",
    "                display_board(test_board)\n",
    "            elif player_choice_type == 'o' or player_choice_type=='O':\n",
    "                test_board[ask_user_number] = 'O'\n",
    "                display_board(test_board)\n",
    "    pass\n",
    "\n",
    "def win_check(board):\n",
    "    if test_board[1]=='X' and test_board[2]=='X' and test_board[3]=='X':\n",
    "        print(\"X gamer is the WINNER\")\n",
    "    elif test_board[1]=='X' and test_board[4]=='X' and test_board[7]=='X':\n",
    "        print(\"X gamer is the WINNER\")\n",
    "    elif test_board[2]=='X' and test_board[5]=='X' and test_board[8]=='X':\n",
    "        print(\"X gamer is the WINNER\")\n",
    "    elif test_board[3]=='X' and test_board[6]=='X' and test_board[9]=='X':\n",
    "        print(\"X gamer is the WINNER\")\n",
    "    elif test_board[7]=='X' and test_board[8]=='X' and test_board[9]=='X':\n",
    "        print(\"X gamer is the WINNER\")\n",
    "    elif test_board[7]=='X' and test_board[5]=='X' and test_board[3]=='X':\n",
    "        print(\"X gamer is the WINNER\")\n",
    "    elif test_board[7]=='X' and test_board[5]=='X' and test_board[3]=='X':\n",
    "        print(\"X gamer is the WINNER\")\n",
    "    elif test_board[4]=='X' and test_board[5]=='X' and test_board[6]=='X':\n",
    "        print(\"X gamer is the WINNER\")\n",
    "    elif test_board[1]=='X' and test_board[5]=='X' and test_board[9]=='X':\n",
    "        print(\"X gamer is the WINNER\")\n",
    "    elif test_board[3]=='X' and test_board[5]=='X' and test_board[7]=='X':\n",
    "        print(\"X gamer is the WINNER\")\n",
    "    elif test_board[1]=='O' and test_board[2]=='O' and test_board[3]=='O':\n",
    "        print(\"O gamer is the WINNER\")\n",
    "    elif test_board[1]=='O' and test_board[4]=='O' and test_board[7]=='O':\n",
    "        print(\"O gamer is the WINNER\")\n",
    "    elif test_board[2]=='O' and test_board[5]=='O' and test_board[8]=='O':\n",
    "        print(\"O gamer is the WINNER\")\n",
    "    elif test_board[3]=='O' and test_board[6]=='O' and test_board[9]=='O':\n",
    "        print(\"O gamer is the WINNER\")\n",
    "    elif test_board[7]=='O' and test_board[8]=='O' and test_board[9]=='O':\n",
    "        print(\"O gamer is the WINNER\")\n",
    "    elif test_board[7]=='O' and test_board[5]=='O' and test_board[3]=='O':\n",
    "        print(\"O gamer is the WINNER\")\n",
    "    elif test_board[7]=='O' and test_board[5]=='O' and test_board[3]=='O':\n",
    "        print(\"O gamer is the WINNER\")\n",
    "    elif test_board[4]=='O' and test_board[5]=='O' and test_board[6]=='O':\n",
    "        print(\"O gamer is the WINNER\")\n",
    "    elif test_board[1]=='O' and test_board[5]=='O' and test_board[9]=='O':\n",
    "        print(\"O gamer is the WINNER\")\n",
    "    elif test_board[3]=='O' and test_board[5]=='O' and test_board[7]=='O':\n",
    "        print(\"O gamer is the WINNER\")\n",
    "    \n",
    "    pass\n"
   ]
  },
  {
   "cell_type": "code",
   "execution_count": 5,
   "metadata": {},
   "outputs": [
    {
     "name": "stdout",
     "output_type": "stream",
     "text": [
      "|1|X|3|\n",
      "|4|X|6|\n",
      "|7|8|9|\n",
      "Choose a number: 8\n",
      "X or O? x\n",
      "|1|X|3|\n",
      "|4|X|6|\n",
      "|7|X|9|\n"
     ]
    }
   ],
   "source": [
    "player_input()"
   ]
  },
  {
   "cell_type": "code",
   "execution_count": 6,
   "metadata": {},
   "outputs": [
    {
     "name": "stdout",
     "output_type": "stream",
     "text": [
      "X gamer is the WINNER\n"
     ]
    }
   ],
   "source": [
    "win_check(test_board)"
   ]
  },
  {
   "cell_type": "code",
   "execution_count": null,
   "metadata": {},
   "outputs": [],
   "source": []
  },
  {
   "cell_type": "code",
   "execution_count": null,
   "metadata": {},
   "outputs": [],
   "source": []
  }
 ],
 "metadata": {
  "kernelspec": {
   "display_name": "Python 3",
   "language": "python",
   "name": "python3"
  },
  "language_info": {
   "codemirror_mode": {
    "name": "ipython",
    "version": 3
   },
   "file_extension": ".py",
   "mimetype": "text/x-python",
   "name": "python",
   "nbconvert_exporter": "python",
   "pygments_lexer": "ipython3",
   "version": "3.8.5"
  }
 },
 "nbformat": 4,
 "nbformat_minor": 4
}
